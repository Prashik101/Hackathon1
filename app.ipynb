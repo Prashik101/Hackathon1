{
 "cells": [
  {
   "cell_type": "code",
   "execution_count": 28,
   "metadata": {},
   "outputs": [],
   "source": [
    "from flask import Flask\n",
    "from flask import request\n",
    "from flask import jsonify\n",
    "from flask_cors import CORS\n",
    "import pandas as pd\n",
    "import random\n",
    "from sklearn.cluster import KMeans\n",
    "from datetime import datetime, timedelta\n"
   ]
  },
  {
   "cell_type": "code",
   "execution_count": 29,
   "metadata": {},
   "outputs": [
    {
     "data": {
      "text/plain": [
       "<flask_cors.extension.CORS at 0x2044a7afed0>"
      ]
     },
     "execution_count": 29,
     "metadata": {},
     "output_type": "execute_result"
    }
   ],
   "source": [
    "app = Flask(__name__)  # Corrected __name__\n",
    "CORS(app)"
   ]
  },
  {
   "cell_type": "code",
   "execution_count": 36,
   "metadata": {},
   "outputs": [],
   "source": [
    "# Load dataset\n",
    "df = pd.read_csv(\"C:/Users/Asus/Downloads/AI_Learning_Path_Dataset.csv\")"
   ]
  },
  {
   "cell_type": "code",
   "execution_count": 37,
   "metadata": {},
   "outputs": [],
   "source": [
    "# Preprocess\n",
    "df.fillna({\"BadgesEarned\": 0, \"ProgressTracking\": df[\"ProgressTracking\"].median()}, inplace=True)"
   ]
  },
  {
   "cell_type": "code",
   "execution_count": 38,
   "metadata": {},
   "outputs": [],
   "source": [
    "# Clustering Model\n",
    "kmeans = KMeans(n_clusters=3, random_state=42)\n",
    "df[\"UserCluster\"] = kmeans.fit_predict(df[[\"StudyHours\", \"ProgressTracking\"]])"
   ]
  },
  {
   "cell_type": "code",
   "execution_count": 39,
   "metadata": {},
   "outputs": [],
   "source": [
    "# Recommend Learning Paths\n",
    "def recommend_learning_path(user_id):\n",
    "    user_cluster = df[df[\"UserID\"] == user_id][\"UserCluster\"].values[0]\n",
    "    recommendations = df[df[\"UserCluster\"] == user_cluster].sample(3)[[\"RecommendedCourse\", \"CareerGoal\"]]\n",
    "    return recommendations.to_dict(orient=\"records\")"
   ]
  },
  {
   "cell_type": "code",
   "execution_count": 40,
   "metadata": {},
   "outputs": [],
   "source": [
    "# Gamification Elements (Leaderboard, Badges, Streaks)\n",
    "leaderboard = df.sort_values(by=\"ProgressTracking\", ascending=False)[[\"UserID\", \"BadgesEarned\", \"ProgressTracking\"]].head(10)"
   ]
  },
  {
   "cell_type": "code",
   "execution_count": 41,
   "metadata": {},
   "outputs": [],
   "source": [
    "@app.route(\"/recommend\", methods=[\"POST\"])\n",
    "def recommend():\n",
    "    user_id = request.json[\"UserID\"]\n",
    "    return jsonify(recommend_learning_path(user_id))"
   ]
  },
  {
   "cell_type": "code",
   "execution_count": 42,
   "metadata": {},
   "outputs": [],
   "source": [
    "\n",
    "@app.route(\"/leaderboard\", methods=[\"GET\"])\n",
    "def get_leaderboard():\n",
    "    return jsonify(leaderboard.to_dict(orient=\"records\"))"
   ]
  },
  {
   "cell_type": "code",
   "execution_count": 44,
   "metadata": {},
   "outputs": [],
   "source": [
    "if __name__ == \"_main_\":\n",
    "    app.run(debug=True)"
   ]
  }
 ],
 "metadata": {
  "kernelspec": {
   "display_name": "Python 3",
   "language": "python",
   "name": "python3"
  },
  "language_info": {
   "name": "python",
   "version": "3.13.1"
  }
 },
 "nbformat": 4,
 "nbformat_minor": 2
}
